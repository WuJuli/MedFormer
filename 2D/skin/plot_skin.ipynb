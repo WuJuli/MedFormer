{
 "cells": [
  {
   "cell_type": "code",
   "execution_count": 2,
   "id": "83cc3e21",
   "metadata": {},
   "outputs": [],
   "source": [
    "import cv2\n",
    "import numpy as np\n",
    "import matplotlib.pyplot as plt"
   ]
  },
  {
   "cell_type": "code",
   "execution_count": 1,
   "id": "bf92cc5d",
   "metadata": {},
   "outputs": [],
   "source": [
    "def skin_plot(img_add):\n",
    "    # Find three images\n",
    "    img = cv2.imread('../skin.png')\n",
    "    gray = cv2.cvtColor(img, cv2.COLOR_BGR2GRAY)\n",
    "    edged = cv2.Canny(gray, 100, 255)\n",
    "    \n",
    "    cnts, hierarchy = cv2.findContours(edged, \n",
    "    cv2.RETR_EXTERNAL, cv2.CHAIN_APPROX_NONE)\n",
    "\n",
    "    cnts = sorted(cnts, key=cv2.contourArea, reverse=True)\n",
    "\n",
    "    ROIs = []\n",
    "    for c in cnts:\n",
    "        x,y,w,h = cv2.boundingRect(c)\n",
    "        if w == 242:\n",
    "            w = 241\n",
    "        ROI = img[y+1:y+h, x+1:x+w]\n",
    "        ROIs.append(ROI)\n",
    "        \n",
    "    # Plot  \n",
    "    img_org = np.array(ROIs[2][...,::-1])\n",
    "\n",
    "    test = cv2.cvtColor(ROIs[0][...,::-1], cv2.COLOR_BGR2GRAY)\n",
    "    edged_test = cv2.Canny(test, 100, 255)\n",
    "    contours_test, _ = cv2.findContours(edged_test, cv2.RETR_TREE, cv2.CHAIN_APPROX_SIMPLE)\n",
    "\n",
    "    gt = cv2.cvtColor(ROIs[1][...,::-1], cv2.COLOR_BGR2GRAY)\n",
    "    edged_gt = cv2.Canny(gt, 100, 255)\n",
    "    contours_gt, _ = cv2.findContours(edged_gt, cv2.RETR_TREE, cv2.CHAIN_APPROX_SIMPLE)\n",
    "\n",
    "    for cnt_test in contours_test:\n",
    "        cv2.drawContours(img_org, [cnt_test], -1, (0, 0, 255), 1)\n",
    "\n",
    "    for cnt_gt in contours_gt:\n",
    "        cv2.drawContours(img_org, [cnt_gt], -1, (0,255,0), 1)\n",
    "        \n",
    "    return img_org"
   ]
  },
  {
   "cell_type": "code",
   "execution_count": 3,
   "id": "ef9c14e7",
   "metadata": {},
   "outputs": [
    {
     "name": "stderr",
     "output_type": "stream",
     "text": [
      "[ WARN:0@6.233] global loadsave.cpp:244 findDecoder imread_('../skin.png'): can't open/read file: check file path/integrity\n"
     ]
    },
    {
     "ename": "error",
     "evalue": "OpenCV(4.7.0) /io/opencv/modules/imgproc/src/color.cpp:182: error: (-215:Assertion failed) !_src.empty() in function 'cvtColor'\n",
     "output_type": "error",
     "traceback": [
      "\u001b[0;31m---------------------------------------------------------------------------\u001b[0m",
      "\u001b[0;31merror\u001b[0m                                     Traceback (most recent call last)",
      "Cell \u001b[0;32mIn[3], line 1\u001b[0m\n\u001b[0;32m----> 1\u001b[0m plt\u001b[39m.\u001b[39mimshow(skin_plot(\u001b[39m'\u001b[39;49m\u001b[39m../skin.png\u001b[39;49m\u001b[39m'\u001b[39;49m))\n",
      "Cell \u001b[0;32mIn[1], line 4\u001b[0m, in \u001b[0;36mskin_plot\u001b[0;34m(img_add)\u001b[0m\n\u001b[1;32m      1\u001b[0m \u001b[39mdef\u001b[39;00m \u001b[39mskin_plot\u001b[39m(img_add):\n\u001b[1;32m      2\u001b[0m     \u001b[39m# Find three images\u001b[39;00m\n\u001b[1;32m      3\u001b[0m     img \u001b[39m=\u001b[39m cv2\u001b[39m.\u001b[39mimread(\u001b[39m'\u001b[39m\u001b[39m../skin.png\u001b[39m\u001b[39m'\u001b[39m)\n\u001b[0;32m----> 4\u001b[0m     gray \u001b[39m=\u001b[39m cv2\u001b[39m.\u001b[39;49mcvtColor(img, cv2\u001b[39m.\u001b[39;49mCOLOR_BGR2GRAY)\n\u001b[1;32m      5\u001b[0m     edged \u001b[39m=\u001b[39m cv2\u001b[39m.\u001b[39mCanny(gray, \u001b[39m100\u001b[39m, \u001b[39m255\u001b[39m)\n\u001b[1;32m      7\u001b[0m     cnts, hierarchy \u001b[39m=\u001b[39m cv2\u001b[39m.\u001b[39mfindContours(edged, \n\u001b[1;32m      8\u001b[0m     cv2\u001b[39m.\u001b[39mRETR_EXTERNAL, cv2\u001b[39m.\u001b[39mCHAIN_APPROX_NONE)\n",
      "\u001b[0;31merror\u001b[0m: OpenCV(4.7.0) /io/opencv/modules/imgproc/src/color.cpp:182: error: (-215:Assertion failed) !_src.empty() in function 'cvtColor'\n"
     ]
    }
   ],
   "source": [
    "plt.imshow(skin_plot('../skin.png'))"
   ]
  },
  {
   "cell_type": "code",
   "execution_count": null,
   "id": "3afe1529",
   "metadata": {},
   "outputs": [],
   "source": []
  }
 ],
 "metadata": {
  "kernelspec": {
   "display_name": "Python 3.9.12 ('tensorflow')",
   "language": "python",
   "name": "python3"
  },
  "language_info": {
   "codemirror_mode": {
    "name": "ipython",
    "version": 3
   },
   "file_extension": ".py",
   "mimetype": "text/x-python",
   "name": "python",
   "nbconvert_exporter": "python",
   "pygments_lexer": "ipython3",
   "version": "3.8.16"
  },
  "vscode": {
   "interpreter": {
    "hash": "34a6a6335c85b1405dfd67c72c903fc22816b5aa09c9c34fbf4e327951d9649b"
   }
  }
 },
 "nbformat": 4,
 "nbformat_minor": 5
}
